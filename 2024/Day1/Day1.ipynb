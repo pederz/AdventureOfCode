{
 "cells": [
  {
   "cell_type": "code",
   "execution_count": 1,
   "id": "1ff621a1-a70d-4e88-9f97-cbdd1b36813c",
   "metadata": {},
   "outputs": [],
   "source": [
    "import numpy as np\n",
    "input = np.loadtxt(fname='input.txt', dtype='int')"
   ]
  },
  {
   "cell_type": "code",
   "execution_count": 2,
   "id": "cdd4b335-3d1f-477c-9680-5b23baaecc5c",
   "metadata": {},
   "outputs": [
    {
     "name": "stdout",
     "output_type": "stream",
     "text": [
      "1889772\n"
     ]
    }
   ],
   "source": [
    "# Part 1\n",
    "input_sorted = np.sort(input, axis=0)\n",
    "total_distance = 0\n",
    "\n",
    "for x in input_sorted:\n",
    "    total_distance += abs(x[0]-x[1])\n",
    "print(total_distance)"
   ]
  },
  {
   "cell_type": "code",
   "execution_count": 3,
   "id": "c45532d7-6642-46f6-a955-667e18e91d6c",
   "metadata": {},
   "outputs": [
    {
     "name": "stdout",
     "output_type": "stream",
     "text": [
      "23228917\n"
     ]
    }
   ],
   "source": [
    "# Part 2\n",
    "total_similarity_score = 0\n",
    "for x in input:\n",
    "    number_count = 0\n",
    "    for y in input:\n",
    "        if x[0] == y[1]:\n",
    "            number_count += 1\n",
    "    total_similarity_score = total_similarity_score + int(x[0] * number_count)\n",
    "print(total_similarity_score)"
   ]
  }
 ],
 "metadata": {
  "kernelspec": {
   "display_name": "Python 3 (ipykernel)",
   "language": "python",
   "name": "python3"
  },
  "language_info": {
   "codemirror_mode": {
    "name": "ipython",
    "version": 3
   },
   "file_extension": ".py",
   "mimetype": "text/x-python",
   "name": "python",
   "nbconvert_exporter": "python",
   "pygments_lexer": "ipython3",
   "version": "3.12.7"
  }
 },
 "nbformat": 4,
 "nbformat_minor": 5
}
